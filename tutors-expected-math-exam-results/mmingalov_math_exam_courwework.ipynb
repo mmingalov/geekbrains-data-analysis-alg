{
 "cells": [
  {
   "cell_type": "markdown",
   "metadata": {},
   "source": [
    "### Задание:\n",
    "In this competition your task will be to predict the mean math exam result (from 0 to 100 points) for students of tutors in test.csv. You will be given two datasets: train.csv (contains all features and the target) and test.csv (only features).\n",
    "You can only use these imports:\n",
    "* import numpy as np\n",
    "* import pandas as pd\n",
    "* from sklearn.model_selection import train_test_split\n",
    "* import matplotlib.pyplot as plt\n",
    "* import seaborn as sns\n",
    "\n",
    "https://www.kaggle.com/c/tutors-expected-math-exam-results\n",
    "\n",
    "Метрика для оценки – Коэффициент детерминации:\n",
    "\n",
    "$R^2 = 1 - \\frac{\\sigma^2}{\\sigma_y^2}$"
   ]
  },
  {
   "cell_type": "code",
   "execution_count": 25,
   "metadata": {},
   "outputs": [],
   "source": [
    "import numpy as np\n",
    "import pandas as pd\n",
    "from sklearn.model_selection import train_test_split\n",
    "import matplotlib.pyplot as plt\n",
    "import seaborn as sns\n",
    "\n",
    "%matplotlib inline"
   ]
  },
  {
   "cell_type": "markdown",
   "metadata": {},
   "source": [
    "__загрузим датасеты__"
   ]
  },
  {
   "cell_type": "code",
   "execution_count": 16,
   "metadata": {},
   "outputs": [],
   "source": [
    "PATH_FOLDER = 'D:\\\\Cloud\\\\Git\\\\geekbrains-data-analysis-alg\\\\tutors-expected-math-exam-results\\\\'"
   ]
  },
  {
   "cell_type": "code",
   "execution_count": 19,
   "metadata": {},
   "outputs": [],
   "source": [
    "train = pd.read_csv(PATH_FOLDER + 'train.csv')\n",
    "test = pd.read_csv(PATH_FOLDER + 'test.csv')"
   ]
  },
  {
   "cell_type": "markdown",
   "metadata": {},
   "source": [
    "__посмотрим на исходные данные__"
   ]
  },
  {
   "cell_type": "code",
   "execution_count": 14,
   "metadata": {},
   "outputs": [
    {
     "data": {
      "text/html": [
       "<div>\n",
       "<style scoped>\n",
       "    .dataframe tbody tr th:only-of-type {\n",
       "        vertical-align: middle;\n",
       "    }\n",
       "\n",
       "    .dataframe tbody tr th {\n",
       "        vertical-align: top;\n",
       "    }\n",
       "\n",
       "    .dataframe thead th {\n",
       "        text-align: right;\n",
       "    }\n",
       "</style>\n",
       "<table border=\"1\" class=\"dataframe\">\n",
       "  <thead>\n",
       "    <tr style=\"text-align: right;\">\n",
       "      <th></th>\n",
       "      <th>Id</th>\n",
       "      <th>age</th>\n",
       "      <th>years_of_experience</th>\n",
       "      <th>lesson_price</th>\n",
       "      <th>qualification</th>\n",
       "      <th>physics</th>\n",
       "      <th>chemistry</th>\n",
       "      <th>biology</th>\n",
       "      <th>english</th>\n",
       "      <th>geography</th>\n",
       "      <th>history</th>\n",
       "      <th>mean_exam_points</th>\n",
       "    </tr>\n",
       "  </thead>\n",
       "  <tbody>\n",
       "    <tr>\n",
       "      <td>count</td>\n",
       "      <td>10000.00000</td>\n",
       "      <td>10000.000000</td>\n",
       "      <td>10000.000000</td>\n",
       "      <td>10000.000000</td>\n",
       "      <td>10000.000000</td>\n",
       "      <td>10000.000000</td>\n",
       "      <td>10000.000000</td>\n",
       "      <td>10000.000000</td>\n",
       "      <td>10000.000000</td>\n",
       "      <td>10000.000000</td>\n",
       "      <td>10000.000000</td>\n",
       "      <td>10000.000000</td>\n",
       "    </tr>\n",
       "    <tr>\n",
       "      <td>mean</td>\n",
       "      <td>4999.50000</td>\n",
       "      <td>45.878000</td>\n",
       "      <td>1.986800</td>\n",
       "      <td>1699.105000</td>\n",
       "      <td>1.719500</td>\n",
       "      <td>0.375000</td>\n",
       "      <td>0.132900</td>\n",
       "      <td>0.109600</td>\n",
       "      <td>0.053700</td>\n",
       "      <td>0.032100</td>\n",
       "      <td>0.019400</td>\n",
       "      <td>64.340800</td>\n",
       "    </tr>\n",
       "    <tr>\n",
       "      <td>std</td>\n",
       "      <td>2886.89568</td>\n",
       "      <td>8.043929</td>\n",
       "      <td>1.772213</td>\n",
       "      <td>524.886654</td>\n",
       "      <td>0.792264</td>\n",
       "      <td>0.484147</td>\n",
       "      <td>0.339484</td>\n",
       "      <td>0.312406</td>\n",
       "      <td>0.225436</td>\n",
       "      <td>0.176274</td>\n",
       "      <td>0.137933</td>\n",
       "      <td>13.536823</td>\n",
       "    </tr>\n",
       "    <tr>\n",
       "      <td>min</td>\n",
       "      <td>0.00000</td>\n",
       "      <td>23.000000</td>\n",
       "      <td>0.000000</td>\n",
       "      <td>200.000000</td>\n",
       "      <td>1.000000</td>\n",
       "      <td>0.000000</td>\n",
       "      <td>0.000000</td>\n",
       "      <td>0.000000</td>\n",
       "      <td>0.000000</td>\n",
       "      <td>0.000000</td>\n",
       "      <td>0.000000</td>\n",
       "      <td>32.000000</td>\n",
       "    </tr>\n",
       "    <tr>\n",
       "      <td>25%</td>\n",
       "      <td>2499.75000</td>\n",
       "      <td>40.000000</td>\n",
       "      <td>0.000000</td>\n",
       "      <td>1300.000000</td>\n",
       "      <td>1.000000</td>\n",
       "      <td>0.000000</td>\n",
       "      <td>0.000000</td>\n",
       "      <td>0.000000</td>\n",
       "      <td>0.000000</td>\n",
       "      <td>0.000000</td>\n",
       "      <td>0.000000</td>\n",
       "      <td>55.000000</td>\n",
       "    </tr>\n",
       "    <tr>\n",
       "      <td>50%</td>\n",
       "      <td>4999.50000</td>\n",
       "      <td>46.000000</td>\n",
       "      <td>2.000000</td>\n",
       "      <td>1500.000000</td>\n",
       "      <td>2.000000</td>\n",
       "      <td>0.000000</td>\n",
       "      <td>0.000000</td>\n",
       "      <td>0.000000</td>\n",
       "      <td>0.000000</td>\n",
       "      <td>0.000000</td>\n",
       "      <td>0.000000</td>\n",
       "      <td>63.000000</td>\n",
       "    </tr>\n",
       "    <tr>\n",
       "      <td>75%</td>\n",
       "      <td>7499.25000</td>\n",
       "      <td>51.000000</td>\n",
       "      <td>3.000000</td>\n",
       "      <td>2150.000000</td>\n",
       "      <td>2.000000</td>\n",
       "      <td>1.000000</td>\n",
       "      <td>0.000000</td>\n",
       "      <td>0.000000</td>\n",
       "      <td>0.000000</td>\n",
       "      <td>0.000000</td>\n",
       "      <td>0.000000</td>\n",
       "      <td>73.000000</td>\n",
       "    </tr>\n",
       "    <tr>\n",
       "      <td>max</td>\n",
       "      <td>9999.00000</td>\n",
       "      <td>68.000000</td>\n",
       "      <td>10.000000</td>\n",
       "      <td>3950.000000</td>\n",
       "      <td>4.000000</td>\n",
       "      <td>1.000000</td>\n",
       "      <td>1.000000</td>\n",
       "      <td>1.000000</td>\n",
       "      <td>1.000000</td>\n",
       "      <td>1.000000</td>\n",
       "      <td>1.000000</td>\n",
       "      <td>100.000000</td>\n",
       "    </tr>\n",
       "  </tbody>\n",
       "</table>\n",
       "</div>"
      ],
      "text/plain": [
       "                Id           age  years_of_experience  lesson_price  \\\n",
       "count  10000.00000  10000.000000         10000.000000  10000.000000   \n",
       "mean    4999.50000     45.878000             1.986800   1699.105000   \n",
       "std     2886.89568      8.043929             1.772213    524.886654   \n",
       "min        0.00000     23.000000             0.000000    200.000000   \n",
       "25%     2499.75000     40.000000             0.000000   1300.000000   \n",
       "50%     4999.50000     46.000000             2.000000   1500.000000   \n",
       "75%     7499.25000     51.000000             3.000000   2150.000000   \n",
       "max     9999.00000     68.000000            10.000000   3950.000000   \n",
       "\n",
       "       qualification       physics     chemistry       biology       english  \\\n",
       "count   10000.000000  10000.000000  10000.000000  10000.000000  10000.000000   \n",
       "mean        1.719500      0.375000      0.132900      0.109600      0.053700   \n",
       "std         0.792264      0.484147      0.339484      0.312406      0.225436   \n",
       "min         1.000000      0.000000      0.000000      0.000000      0.000000   \n",
       "25%         1.000000      0.000000      0.000000      0.000000      0.000000   \n",
       "50%         2.000000      0.000000      0.000000      0.000000      0.000000   \n",
       "75%         2.000000      1.000000      0.000000      0.000000      0.000000   \n",
       "max         4.000000      1.000000      1.000000      1.000000      1.000000   \n",
       "\n",
       "          geography       history  mean_exam_points  \n",
       "count  10000.000000  10000.000000      10000.000000  \n",
       "mean       0.032100      0.019400         64.340800  \n",
       "std        0.176274      0.137933         13.536823  \n",
       "min        0.000000      0.000000         32.000000  \n",
       "25%        0.000000      0.000000         55.000000  \n",
       "50%        0.000000      0.000000         63.000000  \n",
       "75%        0.000000      0.000000         73.000000  \n",
       "max        1.000000      1.000000        100.000000  "
      ]
     },
     "execution_count": 14,
     "metadata": {},
     "output_type": "execute_result"
    }
   ],
   "source": [
    "train.describe()"
   ]
  },
  {
   "cell_type": "code",
   "execution_count": 24,
   "metadata": {},
   "outputs": [
    {
     "data": {
      "image/png": "[encoded data removed]",
      "text/plain": [
       "<Figure size 1152x576 with 1 Axes>"
      ]
     },
     "metadata": {
      "needs_background": "light"
     },
     "output_type": "display_data"
    }
   ],
   "source": [
    "plt.figure(figsize = (16, 8))\n",
    "\n",
    "train['mean_exam_points'].hist(bins=64)\n",
    "plt.ylabel('count')\n",
    "plt.xlabel('mean_exam_points')\n",
    "\n",
    "plt.title('Distribution of \"mean_exam_points\" value in TRAINING dataset')\n",
    "plt.show()"
   ]
  },
  {
   "cell_type": "code",
   "execution_count": 27,
   "metadata": {},
   "outputs": [
    {
     "data": {
      "image/png": "[encoded data removed]",
      "text/plain": [
       "<Figure size 1152x1152 with 12 Axes>"
      ]
     },
     "metadata": {
      "needs_background": "light"
     },
     "output_type": "display_data"
    }
   ],
   "source": [
    "#train.select_dtypes(include=['float64', 'int'])\n",
    "train.hist(figsize=(16,16), bins=64, grid=False);"
   ]
  },
  {
   "cell_type": "code",
   "execution_count": 147,
   "metadata": {},
   "outputs": [],
   "source": [
    "y = train['mean_exam_points']\n",
    "X_train, X_valid, y_train, y_valid = train_test_split(\n",
    "    train.drop(['Id','mean_exam_points'],axis=1), y, test_size=0.3, random_state=42)"
   ]
  },
  {
   "cell_type": "code",
   "execution_count": 148,
   "metadata": {},
   "outputs": [
    {
     "name": "stdout",
     "output_type": "stream",
     "text": [
      "<class 'pandas.core.frame.DataFrame'>\n",
      "Int64Index: 7000 entries, 9069 to 7270\n",
      "Data columns (total 10 columns):\n",
      "age                    7000 non-null float64\n",
      "years_of_experience    7000 non-null float64\n",
      "lesson_price           7000 non-null float64\n",
      "qualification          7000 non-null float64\n",
      "physics                7000 non-null float64\n",
      "chemistry              7000 non-null float64\n",
      "biology                7000 non-null float64\n",
      "english                7000 non-null float64\n",
      "geography              7000 non-null float64\n",
      "history                7000 non-null float64\n",
      "dtypes: float64(10)\n",
      "memory usage: 601.6 KB\n"
     ]
    }
   ],
   "source": [
    "X_train.info()"
   ]
  },
  {
   "cell_type": "code",
   "execution_count": 149,
   "metadata": {},
   "outputs": [
    {
     "data": {
      "text/plain": [
       "9069    43.0\n",
       "2603    66.0\n",
       "7738    73.0\n",
       "1579    64.0\n",
       "5058    59.0\n",
       "        ... \n",
       "5734    94.0\n",
       "5191    89.0\n",
       "5390    69.0\n",
       "860     48.0\n",
       "7270    66.0\n",
       "Name: mean_exam_points, Length: 7000, dtype: float64"
      ]
     },
     "execution_count": 149,
     "metadata": {},
     "output_type": "execute_result"
    }
   ],
   "source": [
    "y_train"
   ]
  },
  {
   "cell_type": "markdown",
   "metadata": {},
   "source": [
    "#### Градиентный спуск"
   ]
  },
  {
   "cell_type": "code",
   "execution_count": 295,
   "metadata": {},
   "outputs": [],
   "source": [
    "def calc_mse(y, y_pred):\n",
    "    err = np.mean((y - y_pred)**2)\n",
    "    return err"
   ]
  },
  {
   "cell_type": "code",
   "execution_count": 296,
   "metadata": {},
   "outputs": [],
   "source": [
    "def grad_sp(X, y, W, alpha,n):\n",
    "    for i in range(10):\n",
    "        y_pred = np.dot(W, X)\n",
    "        print((y_pred-y).shape, X.T.shape)\n",
    "        err = calc_mse(y, y_pred)\n",
    "        W -= (alpha * (1/n * 2 *np.dot(y_pred - y,X.T)))\n",
    "        \n",
    "        if i % 1 == 0:\n",
    "            print(f'i:{i}, W:{W}, err:{err}')\n",
    "            errors.append(err)\n",
    "        '''if err < 3:\n",
    "            #break\n",
    "            return i, W, errors'''\n",
    "    return i, W, errors"
   ]
  },
  {
   "cell_type": "code",
   "execution_count": 301,
   "metadata": {},
   "outputs": [
    {
     "name": "stdout",
     "output_type": "stream",
     "text": [
      "10 1e-08\n"
     ]
    }
   ],
   "source": [
    "n = X_train.shape[1]\n",
    "alpha = 1e-8\n",
    "errors = []\n",
    "print(n,alpha)"
   ]
  },
  {
   "cell_type": "code",
   "execution_count": 298,
   "metadata": {},
   "outputs": [
    {
     "name": "stdout",
     "output_type": "stream",
     "text": [
      "X_t.shape:(7000, 10), W.shape:(10,), W.T.shape:(10,)\n"
     ]
    },
    {
     "data": {
      "text/plain": [
       "(array([ 756.5,  619.5, 1076. ,  749. ,  578. , 1077.5, 1141.5, 1380.5,\n",
       "         704.5, 1097.5]), (7000,))"
      ]
     },
     "execution_count": 298,
     "metadata": {},
     "output_type": "execute_result"
    }
   ],
   "source": [
    "W = np.array([0.5, 0.5,0.5,0.5,0.5,0.5,0.5,0.5,0.5,0.5])\n",
    "#W = np.array(train.describe().iloc[1,1:-1]) #возьмем строчку MEAN по нужным столбцам\n",
    "X_t = np.array(X_train)\n",
    "#W, alpha\n",
    "print(f'X_t.shape:{X_t.shape}, W.shape:{W.shape}, W.T.shape:{W.T.shape}')\n",
    "\n",
    "y_pred = np.dot(W, X_t.T)\n",
    "y_pred[:10], y_pred.shape"
   ]
  },
  {
   "cell_type": "code",
   "execution_count": 299,
   "metadata": {},
   "outputs": [
    {
     "name": "stdout",
     "output_type": "stream",
     "text": [
      "(7000,) (7000, 10)\n",
      "i:0, W:[-2.01178130e-02  4.75704440e-01 -2.06922075e+01  4.78251775e-01\n",
      "  4.95792429e-01  4.98516143e-01  4.98754615e-01  4.99398307e-01\n",
      "  4.99631470e-01  4.99785661e-01], err:722788.6799642857\n",
      "(7000,) (7000, 10)\n",
      "i:1, W:[2.25652356e+01 1.52998513e+00 8.99393924e+02 1.42348425e+00\n",
      " 6.79384118e-01 5.62998518e-01 5.52923484e-01 5.25578077e-01\n",
      " 5.15636130e-01 5.09090764e-01], err:1362227729.8152444\n",
      "(7000,) (7000, 10)\n",
      "i:2, W:[-9.58002386e+02 -4.42434727e+01 -3.90472976e+04 -3.96139610e+01\n",
      " -7.29056430e+00 -2.23652569e+00 -1.79878688e+00 -6.10992921e-01\n",
      " -1.79221775e-01  1.05097364e-01], err:2567759484259.554\n",
      "(7000,) (7000, 10)\n",
      "i:3, W:[4.16145724e+04 1.94306797e+03 1.69528833e+06 1.74207911e+03\n",
      " 3.38735640e+02 1.19308382e+02 1.00303762e+02 4.87347166e+01\n",
      " 2.99889087e+01 1.76449760e+01], err:4840152023281057.0\n",
      "(7000,) (7000, 10)\n",
      "i:4, W:[-1.80672706e+06 -8.43385471e+04 -7.36030646e+07 -7.56123555e+04\n",
      " -1.46844244e+04 -5.15771591e+03 -4.33260614e+03 -2.09367099e+03\n",
      " -1.27979824e+03 -7.43870815e+02], err:9.123545936870673e+18\n",
      "(7000,) (7000, 10)\n",
      "i:5, W:[7.84413394e+07 3.66168580e+06 3.19556921e+09 3.28282728e+06\n",
      " 6.37564878e+05 2.23950901e+05 1.88127728e+05 9.09215553e+04\n",
      " 5.55862510e+04 3.23182907e+04], err:1.719761901316599e+22\n",
      "(7000,) (7000, 10)\n",
      "i:6, W:[-3.40562894e+09 -1.58976652e+08 -1.38739638e+11 -1.42528035e+08\n",
      " -2.76806553e+07 -9.72308658e+06 -8.16777866e+06 -3.94745096e+06\n",
      " -2.41332448e+06 -1.40311685e+06], err:3.2417012175799885e+25\n",
      "(7000,) (7000, 10)\n",
      "i:7, W:[1.47859645e+11 6.90217041e+09 6.02355511e+12 6.18803310e+09\n",
      " 1.20179033e+09 4.22140000e+08 3.54614359e+08 1.71383548e+08\n",
      " 1.04777526e+08 6.09180971e+07], err:6.110512609922659e+28\n",
      "(7000,) (7000, 10)\n",
      "i:8, W:[-6.41951161e+12 -2.99666370e+11 -2.61520187e+14 -2.68661205e+11\n",
      " -5.21772319e+10 -1.83277366e+10 -1.53960264e+10 -7.44083130e+09\n",
      " -4.54904746e+09 -2.64483544e+09], err:1.1518138733309175e+32\n",
      "(7000,) (7000, 10)\n",
      "i:9, W:[2.78711135e+14 1.30103907e+13 1.13542264e+16 1.16642626e+13\n",
      " 2.26533985e+12 7.95721635e+11 6.68437763e+11 3.23053008e+11\n",
      " 1.97502591e+11 1.14828842e+11], err:2.1711356861341267e+35\n"
     ]
    },
    {
     "data": {
      "text/plain": [
       "(9, array([2.78711135e+14, 1.30103907e+13, 1.13542264e+16, 1.16642626e+13,\n",
       "        2.26533985e+12, 7.95721635e+11, 6.68437763e+11, 3.23053008e+11,\n",
       "        1.97502591e+11, 1.14828842e+11]), [722788.6799642857,\n",
       "  1362227729.8152444,\n",
       "  2567759484259.554,\n",
       "  4840152023281057.0,\n",
       "  9.123545936870673e+18,\n",
       "  1.719761901316599e+22,\n",
       "  3.2417012175799885e+25,\n",
       "  6.110512609922659e+28,\n",
       "  1.1518138733309175e+32,\n",
       "  2.1711356861341267e+35])"
      ]
     },
     "execution_count": 299,
     "metadata": {},
     "output_type": "execute_result"
    }
   ],
   "source": [
    "i, W, err = grad_sp(X_t.T, y_train, W, alpha,n)\n",
    "i,W,err"
   ]
  },
  {
   "cell_type": "code",
   "execution_count": 300,
   "metadata": {},
   "outputs": [
    {
     "data": {
      "text/plain": [
       "Text(0, 0.5, 'MSE')"
      ]
     },
     "execution_count": 300,
     "metadata": {},
     "output_type": "execute_result"
    },
    {
     "data": {
      "image/png": "[encoded data removed]",
      "text/plain": [
       "<Figure size 432x288 with 1 Axes>"
      ]
     },
     "metadata": {
      "needs_background": "light"
     },
     "output_type": "display_data"
    }
   ],
   "source": [
    "# Визуализируем изменение функционала ошибки\n",
    "plt.plot(range(len(err)), err)\n",
    "plt.title('MSE')\n",
    "plt.xlabel('Iteration number')\n",
    "plt.ylabel('MSE')"
   ]
  },
  {
   "cell_type": "code",
   "execution_count": 294,
   "metadata": {},
   "outputs": [
    {
     "data": {
      "text/plain": [
       "[9165387155119.16,\n",
       " 1.7276488487472648e+16,\n",
       " 3.256567884336775e+19,\n",
       " 6.1385358448192645e+22,\n",
       " 1.1570961716895082e+26,\n",
       " 722788.6799642857,\n",
       " 1362227729.8152444,\n",
       " 2567759484259.554,\n",
       " 4840152023281057.0,\n",
       " 9.123545936870673e+18]"
      ]
     },
     "execution_count": 294,
     "metadata": {},
     "output_type": "execute_result"
    }
   ],
   "source": [
    "errors"
   ]
  },
  {
   "cell_type": "code",
   "execution_count": null,
   "metadata": {},
   "outputs": [],
   "source": []
  }
 ],
 "metadata": {
  "kernelspec": {
   "display_name": "Python 3",
   "language": "python",
   "name": "python3"
  },
  "language_info": {
   "codemirror_mode": {
    "name": "ipython",
    "version": 3
   },
   "file_extension": ".py",
   "mimetype": "text/x-python",
   "name": "python",
   "nbconvert_exporter": "python",
   "pygments_lexer": "ipython3",
   "version": "3.7.4"
  }
 },
 "nbformat": 4,
 "nbformat_minor": 2
}
