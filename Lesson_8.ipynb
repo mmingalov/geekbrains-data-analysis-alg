{
 "cells": [
  {
   "cell_type": "markdown",
   "metadata": {
    "colab_type": "text",
    "id": "UIAqr2CPdfJe"
   },
   "source": [
    "# Урок 8. Снижение размерности данных "
   ]
  },
  {
   "cell_type": "markdown",
   "metadata": {
    "colab_type": "text",
    "id": "oOcLKigsdfJg"
   },
   "source": [
    "Большая размерность данных (под ней понимается размерность пространства признаков, то есть их количество) может серьезно усложнить задачу анализа таких данных и даже стать причиной некорректной работы некоторых алгоритмов. Кроме того, часто в исходных данных могут присутствовать лишние признаки, никак не связанные с целевой переменной. Поэтому часто встает задача понижения количества признаков, оставляя при этом самые значимые (наиболее сильно влияющие на значение целевого параметра) с отсечением менее значимых (наиболее слабо коррелирующих со значением целевого параметра) или с формированием новых признаков на основе старых. То есть ставится задача перехода от пространства большей размерности к пространству меньшей размерности с сохранением максимального количества полезной информации."
   ]
  },
  {
   "cell_type": "markdown",
   "metadata": {
    "colab_type": "text",
    "id": "_Pa5-7u-dfJh"
   },
   "source": [
    "## Алгоритмы снижения размерности"
   ]
  },
  {
   "cell_type": "markdown",
   "metadata": {
    "colab_type": "text",
    "id": "zspAp10fdfJi"
   },
   "source": [
    "Алгоритмы снижения размерности пространства признаков делятся на две группы - _отбор признаков_ (то есть отбрасывание наименее важных признаков) и _понижение размерности_ путем формирования новых признаков на основе старых."
   ]
  },
  {
   "cell_type": "markdown",
   "metadata": {
    "colab_type": "text",
    "id": "Lmvx3YA5dfJj"
   },
   "source": [
    "### Отбор признаков"
   ]
  },
  {
   "cell_type": "markdown",
   "metadata": {
    "colab_type": "text",
    "id": "isLulqvJdfJk"
   },
   "source": [
    "Самым простым и примитивным методом отбора является _одномерный отбор признаков_. Он заключается в оценке предсказательной силы каждого признака, то есть его информативности - насколько он коррелирует с целевой переменной. Затем отбираются либо заданное количество $k$ признаков, либо те признаки, информативность которых выше некоторого порога."
   ]
  },
  {
   "cell_type": "markdown",
   "metadata": {
    "colab_type": "text",
    "id": "U547aIwTdfJl"
   },
   "source": [
    "Оценка предсказательной силы признака (или степени связи этого признака и целевой переменной) может проводиться разными методами, например:\n",
    "\n",
    "- в случае регрессии - _корреляция_ $$R_{j} = \\frac{\\sum_{i=1}^{l}(x_{ij} - \\bar{x}_{j})(y_{i} - \\bar{y})}{\\sqrt{\\sum_{i=1}^{l}(x_{ij} - \\bar{x}_{j})^{2}\\sum_{i=1}^{l}(y_{i} - \\bar{y})^{2}}},$$ где $\\bar{x_{j}}$ и $\\bar{y}$ - среднее значение $j$-го признака и целевой переменной, соответственно. Чем больше по модулю корреляция ($\\pm 1$), тем информативнее признак. Следует заметить, что этот метод учитывает только линейную связь между признаком и целевой переменной.\n",
    "\n",
    "\n",
    "- в случае задачи классификации - *взаимная информация (mutual information)*, моделирующая корреляцию между признаками и классами. Она использует в расчете вероятность того, что одновременно значение $j$-го признака $x_{ij}$ равно числу $v$ и значение целевой переменной $y_{i}=k$, или, другими словами, долю таких объектов от общего количества объектов в выборке $P(x=v,y=k)$. Тогда взаимная информация будет находиться как $$MI_{j}=\\sum_{v \\in X}\\sum_{k \\in Y}P(x=v,y=k)\\text{log}\\frac{P(x=v,y=k)}{P(x=v)P(y=k)}.$$ Здесь $P(x=v)$ и $P(y=k)$ - доли объектов, на которых значение признака равно $v$ и значение целевой переменной равно $k$, соответственно. Если признак и целевая переменная независимы, то взаимная информация обращается в ноль. В отличие от предыдущего метода, этот метод позволяет находять произвольные зависимости (в т.ч. нелинейные) в пространстве произвольной размерности.\n",
    "\n",
    "Такие методы позволяют оценить важность исключительно каждого признака отдельно, без учета влияния комбинаций признаков на целевую переменную, поэтому они и называются одномерными. На практике зачастую признаки влияют именно в совокупности, и по отдельности могут ошибочно быть расценены как некоррелирующие с целевой переменной, поэтому одномерные методы отбора не являются оптимальным методом в большинстве случаев."
   ]
  },
  {
   "cell_type": "markdown",
   "metadata": {
    "colab_type": "text",
    "id": "DV5E5PnadfJl"
   },
   "source": [
    "Отдельной группой методов можно назвать так называемые *переборные методы*, которые дискретно оценивают качество модели, обученной на различных подмножествах признаков. При этом происходит полный перебор всех возможных вариантов. Обычно такие алгоритмы делятся на _жадные (greedy)_ и _нежадные (non-greedy)_. Полный список их можно найти в дополнительных материалах."
   ]
  },
  {
   "cell_type": "markdown",
   "metadata": {
    "colab_type": "text",
    "id": "EOjQFkTgdfJm"
   },
   "source": [
    "Жадность алгоритмов заключаются в том, что если один из признаков включен в подмножество (или исключен в случае исключающего метода), в следующих итерациях поиска он уже не учитывается, так что алгоритм работает на меньшем объеме данных. Известные алгоритмы этого типа - _жадное включение_ и _жадное исключение_. В случае жадного включения на первой итерации аналогично одномерному отбору признаков находится признак, обладающий наибольшей предсказательной силой и добавляется в формирующуееся подмножество $\\{i_{1}\\}$. Далее происходит перебор оставшихся признаков с попеременным добавлением каждого из них в подмножество к первому и оценкой качества получаемой модели, обученной на подмножестве из этих двух признаков $\\{i_{1}, i_{2}\\}$. В итоге в подмножестве остается тот признак, при добавлении которого получается наилучшее качество. Далее эта процедура повторяется до момента, пока ошибка получаемой модели уменьшается. На каждой итерации в подмножество добавляется один признак, максимально улучшающий работу модели. Если на какой-то итерации при добавлении признаков ошибка не уменьшается, процесс останавливается.\n",
    "\n",
    "Плюсом такого алгоритма является относительная быстрота и возможность учета некоторых взаимодействий между признаками (как раз то, чего лишен одномерный отбор). Минусом же можно назвать вероятность застрять в локальном минимуме ошибки, если такой есть. В случае же когда есть единственный глобальный минимум, алгоритм найдет оптимальное решение.\n",
    "\n",
    "Есть также модификации этого алгоритма с многократным проходом по выборке и поочередным включением/исключением признаков из подмножества для учета совокупного влияния признаков."
   ]
  },
  {
   "cell_type": "markdown",
   "metadata": {
    "colab_type": "text",
    "id": "Q5TOTIM4dfJo"
   },
   "source": [
    "Примером нежадного алгоритма может быть простой последовательный полный перебор всех возможных подмножеств признаков. Такой подбор позволяет найти наиболее оптимальное подмножество признаков, но, очевидно, он является достаточно трудоемким (нужно перебрать $2^{n}$ вариантов, где $n$ - число признаков), поэтому подходит только для датасетов с небольшим количеством признаков."
   ]
  },
  {
   "cell_type": "markdown",
   "metadata": {
    "colab_type": "text",
    "id": "kqDrhuvidfJp"
   },
   "source": [
    "Еще одна группа методов отбора признаков - _встроенные в модели_. Они используют эвристики, заложенные в обучающие модели, для оценки важности признаков.\n",
    "\n",
    "- Например, в случае работы с линейными моделями мы имеем зависимость целевой переменной от взвешенной суммы признаков $$a(x) = \\sum_{i=1}^{n}w_{i}x^{i}.$$ Здесь, если признаки масштабированы, веса будут являться показателями информативности признаков: чем больше вес, тем больший вклад данный признак вносит в значение целевой переменной. На основе этого показателя можно проводить отбор признаков. Также, вспоминая уроки по линейным моделям, можно упомянуть, что использование $L_{1}$-регуляризации приводит к занулению весов наименее важных признаков, то есть к их отбрасыванию, при этом больший коэффициент регуляризации будет приводить к большему количеству зануленных весов."
   ]
  },
  {
   "cell_type": "markdown",
   "metadata": {
    "colab_type": "text",
    "id": "iMFGIpqQdfJr"
   },
   "source": [
    "- В случае использования решающих деревьев и их композиций, где в каждой вершине происходит разбиение на два поддерева путем сравнивания значения одного признака с некоторым значением порога, важность признака можно оценивать по тому, насколько он уменьшает значение критерия информативности, по которому оценивается качество разбиения: $$Q(X_{m}, j, t) = H(X_{m}) - \\frac{|X_{l}|}{|X_{m}|}H(X_{l}) - \\frac{|X_{r}|}{|X_{m}|}H(X_{r}),$$ где $X_{m}$ - множество объектов, попавших в вершину на данном шаге, $X_{l}$ и $X_{r}$ - множества, попадающие в левое и правое поддерево, соответственно, после разбиения. $H(X)$ - критерий информативности. \n",
    "    \n",
    "    Чем сильнее падает критерий информативности при разбиении по данному признаку (то есть чем выше $Q$), тем этот признак важнее. Таким образом, важность $j$-го признака можно оценить путем вычисления суммы уменьшений критерия информативности по всем вершинам, в которых делалось разбиение по данному признаку. Чем больше эта сумма, тем важнее данный признак был при построении дерева. В случае композиций деревьев этот показатель суммируется по всем деревьям."
   ]
  },
  {
   "cell_type": "markdown",
   "metadata": {
    "colab_type": "text",
    "id": "suyYET13dfJr"
   },
   "source": [
    "### Понижение размерности"
   ]
  },
  {
   "cell_type": "markdown",
   "metadata": {
    "colab_type": "text",
    "id": "8w8aSllUdfJs"
   },
   "source": [
    "Кроме отбора признаков, который не всегда оптимален в плане сохранения максимума полезной информации, существуют еще методы понижения размерности путем формирования новых признаков на основе старых. Новых признаков при использовании такого метода должно быть меньше, чем исходных, при условии сохранения максимально возможного количества информации из исходных признаков. Например, объединение нескольких признаков в линейную комбинацию:\n",
    "\n",
    "$$z_{ij}=\\sum_{k=1}^{n}w_{jk}x_{ik},$$\n",
    "\n",
    "где $x_{ij}$ - исходные признаки, $z_{ij}$ - новые принаки."
   ]
  },
  {
   "cell_type": "markdown",
   "metadata": {
    "colab_type": "text",
    "id": "U2iJ7XBhdfJt"
   },
   "source": [
    "Простейшим методов такого понижения размерности является метод *случайных проекций*, который заключается в преобразованиях, сохраняющих расстояния и снижающих размерности. Существование таких преобразований доказано для выборок, в которых объектов меньше, чем признаков. Веса при всех признаках в таком методе можно выбирать случайно. При этом не факт, что мы попадем в оптимальное преобразование, но практика показывает, что метод работает, если размерность нового пространства признаков\n",
    "\n",
    "$$d > \\frac{8\\text{ln}l}{\\varepsilon^{2}},$$\n",
    "\n",
    "где $l$ - количество объектов, $\\varepsilon$ - максимальное изменение расстояния между объектами (лемма о малом искажении или лемма Джонсона-Линденштрауса)."
   ]
  },
  {
   "cell_type": "markdown",
   "metadata": {
    "colab_type": "text",
    "id": "7RKYQxgMdfJu"
   },
   "source": [
    "### Метод главных компонент (PCA)"
   ]
  },
  {
   "cell_type": "markdown",
   "metadata": {
    "colab_type": "text",
    "id": "A7frA6OrdfJv"
   },
   "source": [
    "Одним из наиболее известных и широко применяемых методов понижения размерности является _метод главных компонент (principal component analysis, PCA)_. Он заключается в приближении матрицы признаков матрицей меньшего ранга - так называемом низкоранговом приближении.\n",
    "\n",
    "Запишем показанную ранее формулу линейного преобразования признаков в матричном виде:\n",
    "\n",
    "$$Z = XW^{T},$$\n",
    "\n",
    "где $X$ - матрица \"объекты-признаки\", где по строкам отложены объекты, а по столбцам - значения признаков, $Z$ - матрица новых признаков, $W^{T}$ - транспонированная матрица весов. Приближение заключается формировании новой матрицы признаков $\\tilde{X}=ZW\\approx X$ с возможностью восстанавливания старых признаков по новым с максимальным уровнем точности, или, если говорить иначе, чтобы их различие было минимальным:\n",
    "\n",
    "$$\\|ZW - X\\|^{2} \\rightarrow \\underset{Z, W}{\\text{min}}.$$"
   ]
  },
  {
   "cell_type": "markdown",
   "metadata": {
    "colab_type": "text",
    "id": "6oGhpkBfdfJv"
   },
   "source": [
    "При этом метод главных компонент предполагает, что матрица весов должна быть ортогональной, то есть произведение $WW^{T}$ должно равняться единичной матрице. Восстановленная матрица $ZW$ может иметь ранг меньший, чем исходная $X$, поэтому приближение будет называться низкоранговым."
   ]
  },
  {
   "cell_type": "markdown",
   "metadata": {
    "colab_type": "text",
    "id": "P45TTDjedfJw"
   },
   "source": [
    "Геометрически метод можно представить как проецирование признаков на гиперплоскость с максимизацией дисперсии получаемой выборки."
   ]
  },
  {
   "cell_type": "markdown",
   "metadata": {
    "colab_type": "text",
    "id": "3dV8i8cDdfJx"
   },
   "source": [
    "Если ранг матрицы исходных признаков $rank(X) \\geq d$, где $d$ - число новых признаков, то минимум функционала различия, описанного выше, достигается тогда, когда в качестве строк матрицы $W$ используются собственные векторы матрицы $X^{T}X$ , соответствующие максимальным собственным значениям $\\lambda_{1},...,\\lambda_{d}$. Максимальные собственные значения и называются __главными компонентами__, от чего пошло название метода. Первая главная компонента соответствует максимальному собственному значению и т.д."
   ]
  },
  {
   "cell_type": "markdown",
   "metadata": {
    "colab_type": "text",
    "id": "VvLN4XJLdfJx"
   },
   "source": [
    "Некоторые полезные свойства метода:\n",
    "\n",
    "- Матрица $Z$ при этом будет такой, что $Z^{T}Z = \\Lambda = diag(\\lambda_{1},...,\\lambda_{d})$.\n",
    "\n",
    "\n",
    "- Минимизированный функционал ошибки будет равен $$\\|ZW - X\\|^{2} = \\|X\\|^{2} - tr\\Lambda,$$ где $tr\\Lambda,$ - след матрицы $\\Lambda$, то есть сумма всех собственных значений $\\lambda_{1},...,\\lambda_{d}$, а $\\|X\\|^{2}$ - сумма всех собственных значений исходной матрицы $\\lambda_{1},...,\\lambda_{n}$, таким образом $$\\|ZW - X\\|^{2} = \\sum_{j=d+1}^{n}\\lambda_{j},$$ то есть значение функционала ошибки будет равно сумме собственных значений, которые не были взяты в получаемое разложение. Поэтому логично брать в разложение максимальные собственные значения, оставляя минимальные.\n",
    "\n",
    "\n",
    "- Матрица $X^{T}X$ - матрица ковариации, то есть матрица, которая характеризует дисперсию выборки. Дисперсия выборки после проецирования будет равна собственному значению $\\lambda$, поэтому логично, что первым берется собственный вектор, соответствующий максимальному собственному значению - нам нужно сохранить максимум дисперсии."
   ]
  },
  {
   "cell_type": "markdown",
   "metadata": {
    "colab_type": "text",
    "id": "-pPzjbW8dfJy"
   },
   "source": [
    "Таким образом, для реализации метода главных компонент нужно :\n",
    "- найти собственные значения матрицы $X^{T}X$;\n",
    "- отобрать $d$ максимальных;\n",
    "- составить матрицу $W^{T}$, столбцы которой будут являться собственными векторами, соответствующими отобранным собственным значениям, расположенным в порядке убывания;\n",
    "- получить новую матрицу \"объекты-признаки\", умножив исходную матрицу $X$ на матрицу весов $W$:\n",
    "\n",
    "$$Z=XW.$$"
   ]
  },
  {
   "cell_type": "markdown",
   "metadata": {
    "colab_type": "text",
    "id": "LnYvDiOadfJz"
   },
   "source": [
    "### Сингулярное разложение (SVD) "
   ]
  },
  {
   "cell_type": "markdown",
   "metadata": {
    "colab_type": "text",
    "id": "Thkg-tSXdfJ0"
   },
   "source": [
    "Сформулировав принцип реализации метода главных компонент, нельзя не заметить его родство с _сингулярным разложением матриц (singular value decomposition, SVD)_. Вспомним, что сингулярное разложение матрицы - это разложение вида\n",
    "\n",
    "$$X=UDV^{T},$$\n",
    "\n",
    "где столбцы ортогональной матрицы $U$ - это собственные векторы матрицы $XX^{T}$, столбцы ортогональной матрицы $V$ - собственные векторы матрицы $X^{T}X$, а на главной диагонали диагональной матрицы $D$ расположены собственные значения матриц $XX^{T}$ и $X^{T}X$ (они равны и также называются сингулярными числами матрицы $X$).\n",
    "\n",
    "Если число новых признаков $d$ равно старому числу признаков $n$, то можно приравнять разложения\n",
    "\n",
    "$$X=ZW=UDV^{T}.$$\n",
    "\n",
    "При этом матрицы $W$ и $V^{T}$ состоят из собственных векторов матрицы $X^{T}X$, то есть они равны при $Z=UD$."
   ]
  },
  {
   "cell_type": "markdown",
   "metadata": {
    "colab_type": "text",
    "id": "8tzfpn9zdfJ0"
   },
   "source": [
    "Получается, что метод главных компонент - в своем роде \"урезанная версия\" сингулярного разложения, из которого убрали минимальные собственные значения с соответствующими собственными векторами. \n",
    "Таким образом, для реализации понижения размерности методом главные компонент с помощью SVD нужно:\n",
    "- найти сингулярное разложение вектора $X$;\n",
    "- сформировать из столбцов матрицы $V$, соответствующих $d$ наибольшим сингулярным числам, матрицу весов $W$;\n",
    "- получить новую матрицу \"объекты-признаки\", умножив исходную матрицу $X$ на матрицу весов $W$:\n",
    "\n",
    "$$Z=XW.$$"
   ]
  },
  {
   "cell_type": "markdown",
   "metadata": {
    "colab_type": "text",
    "id": "dWEQalcAdfJ1"
   },
   "source": [
    "Для закрепления теории реализуем PCA с помощью Python."
   ]
  },
  {
   "cell_type": "code",
   "execution_count": 3,
   "metadata": {
    "colab": {},
    "colab_type": "code",
    "id": "kSmUQy4ZdfJ2"
   },
   "outputs": [],
   "source": [
    "import numpy as np\n",
    "from sklearn import datasets\n",
    "import matplotlib.pyplot as plt"
   ]
  },
  {
   "cell_type": "code",
   "execution_count": 4,
   "metadata": {
    "colab": {},
    "colab_type": "code",
    "id": "m3d93Gx2dfJ6",
    "outputId": "eaee1c83-f56e-474c-a5f2-bdd5d4659ab4"
   },
   "outputs": [
    {
     "data": {
      "text/plain": [
       "(150, 4)"
      ]
     },
     "execution_count": 4,
     "metadata": {},
     "output_type": "execute_result"
    }
   ],
   "source": [
    "# Загрузим игрушечный датасет из sklearn\n",
    "iris = datasets.load_iris()\n",
    "X = iris.data\n",
    "X.shape"
   ]
  },
  {
   "cell_type": "code",
   "execution_count": 5,
   "metadata": {
    "colab": {},
    "colab_type": "code",
    "id": "eE6X-RyIdfJ-"
   },
   "outputs": [],
   "source": [
    "# Для начала отмасштабируем выборку\n",
    "X_ = X.astype(float)\n",
    "\n",
    "rows, cols = X_.shape\n",
    "\n",
    "# центрирование - вычитание из каждого значения среднего по строке\n",
    "means = X_.mean(0)\n",
    "for i in range(rows):\n",
    "    for j in range(cols):\n",
    "        X_[i, j] -= means[j]\n",
    "\n",
    "# деление каждого значения на стандартное отклонение\n",
    "std = np.std(X_, axis=0)\n",
    "for i in range(cols):\n",
    "    for j in range(rows):\n",
    "        X_[j][i] /= std[i]"
   ]
  },
  {
   "cell_type": "code",
   "execution_count": 6,
   "metadata": {
    "colab": {},
    "colab_type": "code",
    "id": "ItFOmLW9dfKB",
    "outputId": "0b507805-c106-4539-d15a-4dc8327b764f"
   },
   "outputs": [
    {
     "name": "stdout",
     "output_type": "stream",
     "text": [
      "Собственные значения в порядке убывания:\n",
      "(437.7746724797989, array([ 0.52106591, -0.26934744,  0.5804131 ,  0.56485654]))\n",
      "(137.1045707202105, array([-0.37741762, -0.92329566, -0.02449161, -0.06694199]))\n",
      "(22.013531335697213, array([-0.71956635,  0.24438178,  0.14212637,  0.63427274]))\n",
      "(3.107225464292848, array([ 0.26128628, -0.12350962, -0.80144925,  0.52359713]))\n"
     ]
    }
   ],
   "source": [
    "# Найдем собственные векторы и собственные значения (англ. Eigenvalues)\n",
    " \n",
    "covariance_matrix = X_.T.dot(X_)\n",
    "\n",
    "eig_values, eig_vectors = np.linalg.eig(covariance_matrix)\n",
    "\n",
    "# сформируем список кортежей (собственное значение, собственный вектор)\n",
    "eig_pairs = [(np.abs(eig_values[i]), eig_vectors[:, i]) for i in range(len(eig_values))]\n",
    "\n",
    "# и отсортируем список по убыванию собственных значений\n",
    "eig_pairs.sort(key=lambda x: x[0], reverse=True)\n",
    "\n",
    "print('Собственные значения в порядке убывания:')\n",
    "for i in eig_pairs:\n",
    "    print(i)"
   ]
  },
  {
   "cell_type": "markdown",
   "metadata": {
    "colab_type": "text",
    "id": "9mdEDwm2dfKD"
   },
   "source": [
    "Оценим долю дисперсии, которая описывается найденными компонентами."
   ]
  },
  {
   "cell_type": "code",
   "execution_count": 7,
   "metadata": {
    "colab": {},
    "colab_type": "code",
    "id": "Ct-1I70mdfKE",
    "outputId": "ab04c5c2-649d-4f6f-e849-3791203481d2"
   },
   "outputs": [
    {
     "name": "stdout",
     "output_type": "stream",
     "text": [
      "Доля дисперсии, описываемая каждой из компонент \n",
      "[72.96244541329989, 22.850761786701774, 3.668921889282873, 0.5178709107154752]\n",
      "Кумулятивная доля дисперсии по компонентам \n",
      "[ 72.96244541  95.8132072   99.48212909 100.        ]\n"
     ]
    }
   ],
   "source": [
    "eig_sum = sum(eig_values)\n",
    "var_exp = [(i / eig_sum) * 100 for i in sorted(eig_values, reverse=True)]\n",
    "cum_var_exp = np.cumsum(var_exp)\n",
    "print(f'Доля дисперсии, описываемая каждой из компонент \\n{var_exp}')\n",
    "\n",
    "# а теперя оценим кумулятивную (то есть накапливаемую) дисперсию при учитывании каждой из компонент\n",
    "print(f'Кумулятивная доля дисперсии по компонентам \\n{cum_var_exp}')"
   ]
  },
  {
   "cell_type": "markdown",
   "metadata": {
    "colab_type": "text",
    "id": "NE15sfLtdfKH"
   },
   "source": [
    "Таким образом, первая главная компонента описывает почти 73% информации, а первые две в сумме - 95.8%. В то же время последняя компонента описывает всего 0.5% и может быть отброжена без страха значительных потерь в качестве нашего анализа. Мы отбросим последние две компоненты, оставив первые две."
   ]
  },
  {
   "cell_type": "code",
   "execution_count": 8,
   "metadata": {
    "colab": {},
    "colab_type": "code",
    "id": "z4xcGvf7dfKI",
    "outputId": "e406100f-3bd4-40fb-ce09-15db12e77a12"
   },
   "outputs": [
    {
     "name": "stdout",
     "output_type": "stream",
     "text": [
      "Матрица весов W:\n",
      " [[ 0.52106591 -0.37741762]\n",
      " [-0.26934744 -0.92329566]\n",
      " [ 0.5804131  -0.02449161]\n",
      " [ 0.56485654 -0.06694199]]\n"
     ]
    }
   ],
   "source": [
    "# Сформируем вектор весов из собственных векторов, соответствующих первым двум главным компонентам\n",
    "W = np.hstack((eig_pairs[0][1].reshape(4,1), eig_pairs[1][1].reshape(4,1)))\n",
    "\n",
    "print(f'Матрица весов W:\\n', W)"
   ]
  },
  {
   "cell_type": "code",
   "execution_count": 15,
   "metadata": {
    "colab": {},
    "colab_type": "code",
    "id": "n04tyd6xdfKL"
   },
   "outputs": [],
   "source": [
    "# Сформируем новую матрицу \"объекты-признаки\"\n",
    "Z = X_.dot(W)"
   ]
  },
  {
   "cell_type": "code",
   "execution_count": 17,
   "metadata": {},
   "outputs": [
    {
     "data": {
      "text/plain": [
       "array([[-2.26470281, -0.4800266 ],\n",
       "       [-2.08096115,  0.67413356],\n",
       "       [-2.36422905,  0.34190802],\n",
       "       [-2.29938422,  0.59739451],\n",
       "       [-2.38984217, -0.64683538],\n",
       "       [-2.07563095, -1.48917752],\n",
       "       [-2.44402884, -0.0476442 ],\n",
       "       [-2.23284716, -0.22314807],\n",
       "       [-2.33464048,  1.11532768],\n",
       "       [-2.18432817,  0.46901356]])"
      ]
     },
     "execution_count": 17,
     "metadata": {},
     "output_type": "execute_result"
    }
   ],
   "source": [
    "Z[:10]"
   ]
  },
  {
   "cell_type": "code",
   "execution_count": 13,
   "metadata": {},
   "outputs": [],
   "source": [
    "from sklearn.decomposition import PCA\n",
    "pca = PCA(n_components = 2)\n",
    "XPCAreduced = pca.fit_transform(X_)"
   ]
  },
  {
   "cell_type": "code",
   "execution_count": 18,
   "metadata": {},
   "outputs": [
    {
     "data": {
      "text/plain": [
       "array([[-2.26470281,  0.4800266 ],\n",
       "       [-2.08096115, -0.67413356],\n",
       "       [-2.36422905, -0.34190802],\n",
       "       [-2.29938422, -0.59739451],\n",
       "       [-2.38984217,  0.64683538],\n",
       "       [-2.07563095,  1.48917752],\n",
       "       [-2.44402884,  0.0476442 ],\n",
       "       [-2.23284716,  0.22314807],\n",
       "       [-2.33464048, -1.11532768],\n",
       "       [-2.18432817, -0.46901356]])"
      ]
     },
     "execution_count": 18,
     "metadata": {},
     "output_type": "execute_result"
    }
   ],
   "source": [
    "XPCAreduced[:10]"
   ]
  },
  {
   "cell_type": "code",
   "execution_count": 8,
   "metadata": {
    "colab": {},
    "colab_type": "code",
    "id": "CBqTYO6udfKO",
    "outputId": "8e8e6a9d-f8fa-4c1a-ea3f-84a9bd859bed"
   },
   "outputs": [
    {
     "data": {
      "image/png": "[encoded data removed]",
      "text/plain": [
       "<Figure size 432x288 with 1 Axes>"
      ]
     },
     "metadata": {
      "needs_background": "light"
     },
     "output_type": "display_data"
    }
   ],
   "source": [
    "plt.figure()\n",
    "y = iris.target\n",
    "for c, i in zip(\"rgb\", [0, 1, 2]):\n",
    "    plt.scatter(Z[y==i, 0], Z[y==i, 1], c=c)\n",
    "plt.xlabel('Главная компонента 1')\n",
    "plt.ylabel('Главная компонента 2')\n",
    "plt.title('PCA датасета IRIS')\n",
    "plt.show()"
   ]
  },
  {
   "cell_type": "markdown",
   "metadata": {
    "colab_type": "text",
    "id": "Y7P4Be8PdfKQ"
   },
   "source": [
    "Таким образом, мы перешли от четырехмерного пространства признаков к двумерному и при этом классы остались разделимы в пространстве, то есть классификация возможна."
   ]
  },
  {
   "cell_type": "markdown",
   "metadata": {
    "colab_type": "text",
    "id": "q896KWx0dfKR"
   },
   "source": [
    "PCA наиболее хорошо работает, когда собственные значения $\\lambda$ на каком-то участке графика распределения убывают скачкообразно (критерий крутого склона), другими словами, если существуют предпосылки к тому, что следует решать задачу в пространстве меньшей размерности. Если же они убывают монотонно, следует рассмотреть вариант использования других методов работы с пространством признаков."
   ]
  },
  {
   "cell_type": "markdown",
   "metadata": {
    "colab_type": "text",
    "id": "y6YHvcPvdfKS"
   },
   "source": [
    "## Литература"
   ]
  },
  {
   "cell_type": "markdown",
   "metadata": {
    "colab_type": "text",
    "id": "pQKbma5FdfKT"
   },
   "source": [
    "1. [Методы отбора признаков](https://habr.com/ru/company/aligntechnology/blog/303750/)\n",
    "2. [Взаимная информация](https://ru.wikipedia.org/wiki/%D0%92%D0%B7%D0%B0%D0%B8%D0%BC%D0%BD%D0%B0%D1%8F_%D0%B8%D0%BD%D1%84%D0%BE%D1%80%D0%BC%D0%B0%D1%86%D0%B8%D1%8F)\n",
    "3. [Методы понижения размерности](http://www.machinelearning.ru/wiki/images/0/06/SLT%2C_lecture_8.pdf)\n",
    "4. [Лемма о малом искажении](https://ru.wikipedia.org/wiki/%D0%9B%D0%B5%D0%BC%D0%BC%D0%B0_%D0%BE_%D0%BC%D0%B0%D0%BB%D0%BE%D0%BC_%D0%B8%D1%81%D0%BA%D0%B0%D0%B6%D0%B5%D0%BD%D0%B8%D0%B8)\n",
    "5. [PCA from Scratch in Python](https://github.com/bhattbhavesh91/pca-from-scratch-iris-dataset)"
   ]
  },
  {
   "cell_type": "markdown",
   "metadata": {},
   "source": [
    "## Summary"
   ]
  },
  {
   "cell_type": "markdown",
   "metadata": {},
   "source": [
    "* Снижать размерность данных можно за счет\n",
    "    * отбора признаков (корреляция, взаимная информация, вес коэфф. регрессии, feature_importances_ и др.)\n",
    "    * снижения размерности (случайные проекции, PCA, ICA (Independent Component Analysis), NMF (Non-negative Matrix Factorization) и др.)\n",
    "* Уменьшение размерности \n",
    "    * ускоряет работу моделей\n",
    "    * улучшает интерпретируемость решения\n",
    "    * упрощает поддержку решения\n",
    "    * улучшает точность модели, если были удалены шумовые и нерелевантные признаки\n",
    "* В основе PCA используется понятие [_собственного вектора_](https://ru.wikipedia.org/wiki/%D0%A1%D0%BE%D0%B1%D1%81%D1%82%D0%B2%D0%B5%D0%BD%D0%BD%D1%8B%D0%B9_%D0%B2%D0%B5%D0%BA%D1%82%D0%BE%D1%80) - это вектор, умножение которого на матрицу даёт коллинеарный вектор - тот же вектор, умноженный на некоторое число, называемое _собственным значением_"
   ]
  },
  {
   "cell_type": "markdown",
   "metadata": {},
   "source": [
    "## Q&A"
   ]
  },
  {
   "cell_type": "markdown",
   "metadata": {},
   "source": [
    "__1. Можно ли отобрать наиболее значимые признаки с помощью PCA?__"
   ]
  },
  {
   "cell_type": "markdown",
   "metadata": {},
   "source": [
    "Да, но следует помнить, что PCA не выбирает из имеющихся признаков наиболее значимые, а строит новые, которые \"учтут максимум информации\" из имеющихся признаков, создав тем самым новое уменьшенное признаковое пространство."
   ]
  },
  {
   "cell_type": "markdown",
   "metadata": {},
   "source": [
    "__2. Какие применения на практике есть у матричных разложений, например, SVD?__"
   ]
  },
  {
   "cell_type": "markdown",
   "metadata": {},
   "source": [
    "Сингулярное разложение широко применяется, в частности, при сжатии данных, обработке сигналов, численных итерационных методах для работы с матрицами, латентно-семантическом анализе, а также в _рекомендательных системах_. Так, имея разреженную матрицу \"Users\"-\"Movies\" с оценками фильмов пользователями, мы хотим рекомендовать пользователям новые фильмы, предсказывая оценку i-го пользователя j-му фильму. Для этого мы можем сделать SVD разложение этой матрицы и затем вектор, описывающий i-го пользователя, умножить на вектор, описывающий j-ый фильм. Так мы предскажем оценку, которую данный пользователь поставит этому фильму. Значит, можем сделать это для всех пользователей/фильмов? :)\n",
    "\n",
    "Материалы на тему: [ссылка 1](https://habr.com/ru/company/yandex/blog/241455/), [ссылка 2](https://habr.com/ru/company/surfingbird/blog/139863/), [ссылка 3](https://habr.com/ru/company/okko/blog/454224/)."
   ]
  },
  {
   "cell_type": "markdown",
   "metadata": {},
   "source": [
    "__3. Как вручную найти собственные вектора и собственные значения?__"
   ]
  },
  {
   "cell_type": "markdown",
   "metadata": {},
   "source": [
    "Рассмотрим эту задачу на примере следующей матрицы:"
   ]
  },
  {
   "cell_type": "markdown",
   "metadata": {},
   "source": [
    "$$A = \\begin{Vmatrix}4 & -3 & 3\\\\1 & 2 & 1\\\\1 & 1 & 2\\end{Vmatrix}$$"
   ]
  },
  {
   "cell_type": "markdown",
   "metadata": {},
   "source": [
    "Составим характеристическое уравнение:\n",
    "$$det(A-\\lambda E) = \\begin{Vmatrix}4-\\lambda & -3 & 3\\\\1 & 2-\\lambda & 1\\\\1 & 1 & 2-\\lambda\\end{Vmatrix} = 0$$"
   ]
  },
  {
   "cell_type": "markdown",
   "metadata": {},
   "source": [
    "Расписываем детерминант (определить) матрицы:\n",
    "\n",
    "$$(4-\\lambda)(2-\\lambda)^2-3-3-(4-\\lambda)+3(2-\\lambda)+3(2-\\lambda) = 0$$\n",
    "$$(\\lambda-1)(\\lambda^2-7\\lambda-18) = 0$$\n",
    "\n",
    "Отсюда получаем совокупность уравнений:"
   ]
  },
  {
   "cell_type": "markdown",
   "metadata": {},
   "source": [
    "$$\\left[ \n",
    "    \\begin{gathered}\n",
    "        \\lambda-1 = 0 \\Rightarrow \\lambda = 1\n",
    "        \\\\\n",
    "        \\lambda^2-7\\lambda-18 = 0 \\Rightarrow D = (-7)^2-4*18=-23 < 0\n",
    "    \\end{gathered}\n",
    "\\right.$$\n",
    "\n",
    "Получили, что характеристическое уравнение имеет только один действительный корень $\\lambda=1$, а матрица $A$ только одно собственное значение."
   ]
  },
  {
   "cell_type": "markdown",
   "metadata": {},
   "source": [
    "Найдём собственный вектор для полученного собственного значения, решая уравнение:\n",
    "\n",
    "$$\\begin{Vmatrix}4-\\lambda & -3 & 3\\\\1 & 2-\\lambda & 1\\\\1 & 1 & 2-\\lambda\\end{Vmatrix} * \\begin{Vmatrix}x_1\\\\x_2\\\\x_3\\end{Vmatrix} = \\begin{Vmatrix}0\\\\0\\\\0\\end{Vmatrix}$$\n",
    "\n",
    "Его можно решать в матричном виде, а можно, подставив найденное значение $\\lambda = 1$, переписать в виде системы уравнений:\n",
    "\n",
    "$$\n",
    "\\begin{cases}\n",
    "    3 x_1 - 3 x_2 - 3x_3 = 0,\n",
    "    \\\\\n",
    "    x_1 + x_2 + x_3 = 0,\n",
    "    \\\\\n",
    "    x_1 + x_2 + x_3 = 0.\n",
    "    \\end{cases}\n",
    "$$\n",
    "\n",
    "Отсюда получаем решение системы:\n",
    "\n",
    "$$\n",
    "\\begin{cases}\n",
    "    x_1 = 0,\n",
    "    \\\\\n",
    "    x_3 = -x_2.\n",
    "    \\end{cases}\n",
    "$$\n",
    "\n",
    "Собственный вектор равен:\n",
    "\n",
    "$$\\overrightarrow{x} = \\begin{Vmatrix}0\\\\x_2\\\\-x_2\\end{Vmatrix} = C*\\begin{Vmatrix}0\\\\1\\\\-1\\end{Vmatrix}$$"
   ]
  },
  {
   "cell_type": "markdown",
   "metadata": {},
   "source": [
    "__4. Какими свойствами обладают собственные вектора?__"
   ]
  },
  {
   "cell_type": "markdown",
   "metadata": {},
   "source": [
    "Пусть $A: X_n → X_n$ — линейный оператор.\n",
    "\n",
    "1. Все собственные векторы линейного оператора, соответствующие одному и тому же собственному значению, вместе с нулевым вектором образуют линейное пространство.\n",
    "2. Собственные векторы линейного оператора, соответствующие различным собственным значениям, линейно независимы.\n",
    "3. Если линейный оператор $A: X_n → X_n$ имеет n различных (вещественных) собственных значений, то собственные векторы, соответствующие этим собственным значениям, образуют базис в $X_n$. Такой базис называется собственным базисом линейного оператора $A$.\n",
    "4. Матрица $A$ линейного оператора $A: X_n → X_n$ в некотором базисе $x_1, x_2, ..., x_n$ имеет диагональный вид тогда и только тогда, когда этот базис собственный, причем диагональные элементы этой матрицы — собственные значения оператора $λ_1, λ_2, ..., λ_n$."
   ]
  },
  {
   "cell_type": "markdown",
   "metadata": {},
   "source": [
    "__5. С отбором признаков понятно, но что с предобработкой данных, напомните, есть какой-то \"джентльменский набор\"?__"
   ]
  },
  {
   "cell_type": "markdown",
   "metadata": {},
   "source": [
    "Методы предварительной обработки данных:\n",
    "\n",
    "- __очистка данных__ - является процессом обнаружения и исправления или удаления ошибочных записей данных\n",
    "- __нормализация данных__ - используется для стандартизации диапазона значений независимых переменных или признаков данных (сведение к интервалам [0, 1] или [-1, +1])\n",
    "- __преобразование данных__ - является процессом приведения данных в формат, который ожидают люди\n",
    "- __выделение признаков__ - является процессом преобразования входных данных в набор признаков, которые могут хорошо представлять входные данные\n",
    "- __уплотнение данных__ - является преобразованием числовых данных в исправленный, упорядоченный и упрощённый вид, что приводит к уменьшению количества или размерности данных\n",
    "\n",
    "Методы обнаружения выбросов:\n",
    "\n",
    "- __статистические подходы__ (box-plot, гистограмма и т.д.)\n",
    "- __модельные тесты__ (строим модель, описывающую данные, те объекты, что сильно выбиваются - выбросы)\n",
    "- __метрические методы__ (мерой аномальности может служить, например «расстояние до k-го соседа»)\n",
    "- __методы машинного обучения__\n",
    "    - __AdaBoost__ - выбросы набирают вес при построении новых моделей, решение - исключаем объекты из выборки, которые быстро набирают вес\n",
    "    - __метод опорных векторов для одного класса (OneClassSVM)__ - скорее алгоритм поиска новизны, а не выбросов, т.к. «затачивается» под обучающую выборку\n",
    "    - __изолирующий лес (IsolationForest)__ - одна из вариаций случайного леса, каждое дерево строится до исчерпании выборки, при разбиении выбирается случайные признак и расщепление, для каждого объекта мера его нормальности – среднее арифметическое глубин листьев, в которые он попал (изолировался)\n",
    "    - __эллипсоидальная аппроксимация данных (EllipticEnvelope)__ - облако точек моделируется как внутренность эллипсоида, метод хорошо работает только на одномодальных данных, а совсем хорошо – на нормально распределённых    \n",
    "\n",
    "Восстановление данных - заполнение пропусков:\n",
    "\n",
    "- __\"средние\"__: мат. ожидание, медиана, мода\n",
    "- __предсказание моделью__ (например, линейная регрессия)"
   ]
  },
  {
   "cell_type": "markdown",
   "metadata": {},
   "source": [
    "__6. Какие способы подбора гиперпараметров существуют, помимо простого перебора?__"
   ]
  },
  {
   "cell_type": "markdown",
   "metadata": {},
   "source": [
    "- \"Эль Классико\"\n",
    "    - __GridSearchCV__ - поиск по решетке, все комбинации\n",
    "    - __RandomizedSearchCV__ - случайный поиск\n",
    "- Продвинутые методы\n",
    "    - __байесовская оптимизация__ - стохастическая модель функции отображения из значений гиперпараметра в целевую функцию, ищется оптимальный набор гиперпараметров\n",
    "    - __оптимизация на основе градиентов__ - вычисление градиента гиперпараметров и оптимизация их с помощью градиентного спуска\n",
    "    - __эволюционные алгоритмы__ - начинаем со случайных, оцениваем пригодность, \"скрещиваем\" и \"мутируем\" слабые, повторяем до сходимости\n",
    "\n",
    "Популярные библиотеки:\n",
    "\n",
    "- __HyperOpt__ - автоматическая оптимизация гиперпараметров - https://github.com/hyperopt/hyperopt\n",
    "- __AutoML__ - автоматизирование workflow ML задач - http://docs.h2o.ai/h2o/latest-stable/h2o-docs/automl.html\n",
    "- __Spearmint__ и __BayesOpt__ - байесовская оптимизация - https://github.com/HIPS/Spearmint, https://rmcantin.bitbucket.io/html/"
   ]
  },
  {
   "cell_type": "markdown",
   "metadata": {},
   "source": [
    "**7. Как будет работать случайный лес с категориальными признаками?**"
   ]
  },
  {
   "cell_type": "markdown",
   "metadata": {},
   "source": [
    "Категориальные признаки нельза преобразовать в dummy переменные, потому что они будут разреженными (там будет много нулей). А мы уже говорили, что случайному лесу тяжело находить зависимость целевой переменной от разреженного признака, плюс теряется \"мощь\" признака, так как один будет размазываться по нескольким\n",
    "https://roamanalytics.com/2016/10/28/are-categorical-variables-getting-lost-in-your-random-forests/\n",
    "\n",
    "В случае с категориальными переменными можно построить n-арное дерево\n",
    "\n",
    "Также в ансамблях (типа Catboost, LGBM) есть возможность явно указать категориальные признаки и они будут правильно учтены в деревьях без дамми (one hot encoding)"
   ]
  },
  {
   "cell_type": "markdown",
   "metadata": {},
   "source": [
    "**8. Метод локтя и Дендрограммы** "
   ]
  },
  {
   "cell_type": "markdown",
   "metadata": {},
   "source": [
    "1. Метод Локтя\n",
    "<img src=\"data/elbow.png\" style=\"width: 600px;\">\n",
    "2. Дендрограммы\n",
    "<img src=\"data/dendro.png\" style=\"width: 600px;\">\n",
    "https://wiki.loginom.ru/articles/dendrogram.html"
   ]
  },
  {
   "cell_type": "code",
   "execution_count": null,
   "metadata": {},
   "outputs": [],
   "source": []
  }
 ],
 "metadata": {
  "colab": {
   "collapsed_sections": [],
   "name": "Lesson_8.ipynb",
   "provenance": []
  },
  "kernelspec": {
   "display_name": "Python 3",
   "language": "python",
   "name": "python3"
  },
  "language_info": {
   "codemirror_mode": {
    "name": "ipython",
    "version": 3
   },
   "file_extension": ".py",
   "mimetype": "text/x-python",
   "name": "python",
   "nbconvert_exporter": "python",
   "pygments_lexer": "ipython3",
   "version": "3.7.6"
  }
 },
 "nbformat": 4,
 "nbformat_minor": 1
}
